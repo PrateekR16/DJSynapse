{
 "metadata": {
  "language_info": {
   "codemirror_mode": {
    "name": "ipython",
    "version": 3
   },
   "file_extension": ".py",
   "mimetype": "text/x-python",
   "name": "python",
   "nbconvert_exporter": "python",
   "pygments_lexer": "ipython3",
   "version": "3.9.6"
  },
  "orig_nbformat": 4,
  "kernelspec": {
   "name": "python3",
   "display_name": "Python 3.9.6 64-bit"
  },
  "interpreter": {
   "hash": "ee5cc6fef2d70a7e71ee3826687cbd150f18158e0b1eef11d4f4f92bb920e304"
  }
 },
 "nbformat": 4,
 "nbformat_minor": 2,
 "cells": [
  {
   "cell_type": "code",
   "execution_count": 1,
   "source": [
    "import numpy as np\r\n",
    "import cv2 as cv\r\n",
    "\r\n",
    "img= cv.imread('pic.jpg')\r\n",
    "ogimg=img\r\n",
    "gray= cv.cvtColor(img,cv.COLOR_BGR2GRAY)\r\n",
    "canny = cv.Canny(gray,125,150)\r\n",
    "cv.imshow('cannys',canny )\r\n",
    "contours,hierarchy=cv.findContours(canny.copy(),cv.RETR_TREE,cv.CHAIN_APPROX_NONE)\r\n",
    "\r\n",
    "areas=[]\r\n",
    "\r\n",
    "for cnt in contours :\r\n",
    "     area=cv.contourArea(cnt)\r\n",
    "     areas.append(area)\r\n",
    "\r\n",
    "\r\n",
    "sorted_contours=sorted(contours,key=cv.contourArea,reverse=True)\r\n",
    "largest=sorted_contours[0]\r\n",
    "cv.drawContours(ogimg,largest,-1,(255,0,0),15)\r\n",
    "cv.imshow('Largest',ogimg)\r\n",
    "cv.waitKey(0)\r\n"
   ],
   "outputs": [
    {
     "output_type": "execute_result",
     "data": {
      "text/plain": [
       "-1"
      ]
     },
     "metadata": {},
     "execution_count": 1
    }
   ],
   "metadata": {}
  }
 ]
}